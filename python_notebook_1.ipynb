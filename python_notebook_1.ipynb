{
 "cells": [
  {
   "cell_type": "code",
   "execution_count": 2,
   "metadata": {},
   "outputs": [],
   "source": [
    "import numpy as np\n",
    "import matplotlib.pyplot as plt\n",
    "from ipywidgets import widgets\n",
    "from Ipython.html.widgets import * \n",
    "%matplotlib inline"
   ]
  },
  {
   "cell_type": "markdown",
   "metadata": {},
   "source": [
    "# Intro to Jupyter Notebooks\n",
    "This page was created to become more familar with jupyter notebook and practice working with Python 3. \n",
    "\n",
    "## Calculus Concepts\n",
    "Looking at the limiting process for derivates and plotting their tangent line. \n",
    "\n",
    "Given $f(x) = x^2$ plot the tangent line at point $(1,4)$. The python code below is based on $f'(a) = \\displaystyle\\lim_{h\\rightarrow 0} \\frac{f(a+h)-f(a)}{h}$."
   ]
  },
  {
   "cell_type": "code",
   "execution_count": 6,
   "metadata": {},
   "outputs": [
    {
     "data": {
      "text/plain": [
       "<matplotlib.legend.Legend at 0x10df1ae80>"
      ]
     },
     "execution_count": 6,
     "metadata": {},
     "output_type": "execute_result"
    },
    {
     "data": {
      "image/png": "[encoded data removed]",
      "text/plain": [
       "<matplotlib.figure.Figure at 0x10a347dd8>"
      ]
     },
     "metadata": {},
     "output_type": "display_data"
    }
   ],
   "source": [
    "def sec_line(f,a,h):\n",
    "    b = a+h\n",
    "    sval = (f(b)-f(a))/((b)-(a))\n",
    "    brdr = 3\n",
    "    # Equation of our secant line\n",
    "    secant = lambda x: sval*x-sval*(a)+f(a)\n",
    "    xvals = np.arange(a-brdr,b+brdr,0.1)\n",
    "    yvals = secant(xvals)\n",
    "    return sval, xvals, yvals\n",
    "\n",
    "#Inline function\n",
    "f = lambda x: x**2 \n",
    "a = -2\n",
    "h = 5\n",
    "b = a+h\n",
    "# Secant line slope\n",
    "sval, x2vals, y2vals = sec_line(f,a,h)\n",
    "\n",
    "xvals = np.arange(-10,10,0.01)\n",
    "yvals = f(xvals)\n",
    "\n",
    "line1, = plt.plot(xvals, yvals, color='black', label='$f$')\n",
    "plt.xlabel('x')\n",
    "plt.ylabel('f(x)')\n",
    "plt.plot([a,b],[f(a),f(b)],'or', ms=10)\n",
    "line2, = plt.plot(x2vals,y2vals, label='Secant Line')\n",
    "\n",
    "# Create a legend for the first line. STILL NEED TO FIGURE OUT\n",
    "first_legend = plt.legend(handles=[line1], loc=1)\n",
    "ax = plt.gca().add_artist(first_legend)\n",
    "plt.legend(handles=[line2])\n"
   ]
  },
  {
   "cell_type": "code",
   "execution_count": 5,
   "metadata": {},
   "outputs": [
    {
     "data": {
      "application/vnd.jupyter.widget-view+json": {
       "model_id": "2a6155f2336b41de8a176bd7121ceefc",
       "version_major": 2,
       "version_minor": 0
      },
      "text/html": [
       "<p>Failed to display Jupyter Widget of type <code>interactive</code>.</p>\n",
       "<p>\n",
       "  If you're reading this message in the Jupyter Notebook or JupyterLab Notebook, it may mean\n",
       "  that the widgets JavaScript is still loading. If this message persists, it\n",
       "  likely means that the widgets JavaScript library is either not installed or\n",
       "  not enabled. See the <a href=\"https://ipywidgets.readthedocs.io/en/stable/user_install.html\">Jupyter\n",
       "  Widgets Documentation</a> for setup instructions.\n",
       "</p>\n",
       "<p>\n",
       "  If you're reading this message in another frontend (for example, a static\n",
       "  rendering on GitHub or <a href=\"https://nbviewer.jupyter.org/\">NBViewer</a>),\n",
       "  it may mean that your frontend doesn't currently support widgets.\n",
       "</p>\n"
      ],
      "text/plain": [
       "interactive(children=(IntSlider(value=10, description='x', max=30, min=-10), Output()), _dom_classes=('widget-interact',))"
      ]
     },
     "metadata": {},
     "output_type": "display_data"
    },
    {
     "data": {
      "text/plain": [
       "<function __main__.f>"
      ]
     },
     "execution_count": 5,
     "metadata": {},
     "output_type": "execute_result"
    }
   ],
   "source": [
    "def f(x):\n",
    "    print(x) \n",
    "widgets.interact(f,x=10)"
   ]
  },
  {
   "cell_type": "markdown",
   "metadata": {},
   "source": [
    "### Creating an interactive slider for visualizations on limit definition process. \n",
    "\n",
    "This project will help explain the definition of a derivative by the limit process. The widget process was taken from this website: \n",
    "https://blog.dominodatalab.com/interactive-dashboards-in-jupyter/\n"
   ]
  },
  {
   "cell_type": "code",
   "execution_count": 20,
   "metadata": {},
   "outputs": [
    {
     "data": {
      "application/vnd.jupyter.widget-view+json": {
       "model_id": "c0e9a7ac50004a87839c6ff96826baea",
       "version_major": 2,
       "version_minor": 0
      },
      "text/html": [
       "<p>Failed to display Jupyter Widget of type <code>interactive</code>.</p>\n",
       "<p>\n",
       "  If you're reading this message in the Jupyter Notebook or JupyterLab Notebook, it may mean\n",
       "  that the widgets JavaScript is still loading. If this message persists, it\n",
       "  likely means that the widgets JavaScript library is either not installed or\n",
       "  not enabled. See the <a href=\"https://ipywidgets.readthedocs.io/en/stable/user_install.html\">Jupyter\n",
       "  Widgets Documentation</a> for setup instructions.\n",
       "</p>\n",
       "<p>\n",
       "  If you're reading this message in another frontend (for example, a static\n",
       "  rendering on GitHub or <a href=\"https://nbviewer.jupyter.org/\">NBViewer</a>),\n",
       "  it may mean that your frontend doesn't currently support widgets.\n",
       "</p>\n"
      ],
      "text/plain": [
       "interactive(children=(IntSlider(value=0, description='a', max=3, min=-3), FloatSlider(value=-0.04999999999999982, description='h', max=3.0, min=-2.0, step=0.13), Output()), _dom_classes=('widget-interact',))"
      ]
     },
     "metadata": {},
     "output_type": "display_data"
    },
    {
     "data": {
      "text/plain": [
       "<function __main__.plt_tangentLine>"
      ]
     },
     "execution_count": 20,
     "metadata": {},
     "output_type": "execute_result"
    }
   ],
   "source": [
    "def plt_tangentLine(a,h):\n",
    "    #Inline function\n",
    "    f = lambda x: x**2 \n",
    "    b = a+h\n",
    "    # Secant line slope\n",
    "    sval, x2vals, y2vals = sec_line(f,a,h)\n",
    "\n",
    "    xvals = np.arange(-6,6,0.01)\n",
    "    yvals = f(xvals)\n",
    "\n",
    "    line1, = plt.plot(xvals, yvals, color='black', label='$f$')\n",
    "    plt.xlabel('x')\n",
    "    plt.ylabel('f(x)')\n",
    "    plt.plot([a,b],[f(a),f(b)],'or', ms=10)\n",
    "    line2, = plt.plot(x2vals,y2vals, label='Secant Line')\n",
    "\n",
    "    # Create a legend for the first line. STILL NEED TO FIGURE OUT\n",
    "    first_legend = plt.legend(handles=[line1], loc=1)\n",
    "    ax = plt.gca().add_artist(first_legend)\n",
    "    plt.legend(handles=[line2])\n",
    "    \n",
    "widgets.interact(plt_tangentLine, a=(-3,3,1), h=(-2,3,.13))\n",
    "\n"
   ]
  }
 ],
 "metadata": {
  "kernelspec": {
   "display_name": "Python 3",
   "language": "python",
   "name": "python3"
  },
  "language_info": {
   "codemirror_mode": {
    "name": "ipython",
    "version": 3
   },
   "file_extension": ".py",
   "mimetype": "text/x-python",
   "name": "python",
   "nbconvert_exporter": "python",
   "pygments_lexer": "ipython3",
   "version": "3.6.4"
  }
 },
 "nbformat": 4,
 "nbformat_minor": 2
}
